{
 "cells": [
  {
   "cell_type": "code",
   "execution_count": 2,
   "metadata": {},
   "outputs": [],
   "source": [
    "import scipy\n",
    "import numpy as np\n",
    "from os import listdir\n",
    "from skimage import data\n",
    "from PIL import Image as PImage\n",
    "import matplotlib.pyplot as plt\n",
    "from scipy.spatial import distance\n",
    "from skimage.color import label2rgb\n",
    "from skimage.transform import rotate\n",
    "from skimage.feature import local_binary_pattern\n",
    "import pprint\n",
    "from os import listdir\n",
    "from matplotlib import image\n",
    "import matplotlib.pyplot as plt\n",
    "from matplotlib.patches import Rectangle\n",
    "from PIL import Image\n",
    "import random"
   ]
  },
  {
   "cell_type": "code",
   "execution_count": 147,
   "metadata": {},
   "outputs": [],
   "source": [
    "def rgb2gray(rgb):\n",
    "    return np.dot(rgb[...,:3], [0.299, 0.587, 0.144])\n",
    "\n",
    "\n",
    "def cut_and_gray(img,frame):\n",
    "    if (frame[0] == \"nan\") or (frame[1] == \"nan\") or (frame[2] == \"nan\") or (frame[3] == \"nan\") :\n",
    "        return -2\n",
    "    else :\n",
    "        x = int(float(frame[0]))\n",
    "        y = int(float(frame[1]))\n",
    "        width = int(float(frame[2]))\n",
    "        height = int(float(frame[3]))\n",
    "        imgs=[]        \n",
    "        w=width//4\n",
    "        h=height//2\n",
    "        if w == 0:\n",
    "            w=1\n",
    "        if h == 0:\n",
    "            h = 1\n",
    "        for j in range (0,2):\n",
    "            for i in range (0,4):\n",
    "                imgs.append(rgb2gray(img[(y+(j*h)):(y+((j+1)*h)),(x+(i)*w):(x+(i+1)*w)]))\n",
    "        return imgs #bounding box's eight parts\n",
    "    \n",
    "    \n",
    "def hist_generator(dic):\n",
    "    histogram = {}\n",
    "    for frame in range(1,len(dic)+1):\n",
    "        if dic[frame] != -2:\n",
    "            for val in range(len(dic[frame])):\n",
    "                eight=[]\n",
    "                for part in range(8):\n",
    "                    bins=[]\n",
    "                    for i in range(0,256):\n",
    "                        bins.append(0)\n",
    "                    for i in range(0, 256):\n",
    "                        x = dic[frame][val][part]\n",
    "                        for j in x:\n",
    "                            if (i==j):\n",
    "                                bins[i] += 1/len(x)   \n",
    "                    eight.append(bins)\n",
    "                if val != 0:\n",
    "                    histogram[frame].append(eight)\n",
    "                if val == 0:\n",
    "                    histogram[frame] = [eight]\n",
    "        else:\n",
    "            histogram[frame] = [-2]\n",
    "        if frame % 100 == 0:\n",
    "            print(\"{} masks done.\".format(frame))\n",
    "    return histogram\n",
    "\n",
    "\n",
    "def hist_generator_for_gt(dic):\n",
    "    histogram = {}\n",
    "    for frame in dic:\n",
    "        if dic[frame] != -2:\n",
    "            eight=[]\n",
    "            for part in range(8):\n",
    "                bins=[]\n",
    "                for i in range(0,256):\n",
    "                    bins.append(0)\n",
    "                for i in range(0, 256):\n",
    "                    for j in dic[frame][part]:\n",
    "                        if (i==j):\n",
    "                            bins[i] += 1/len(dic[frame][part])   \n",
    "                eight.append(bins)\n",
    "            if frame in histogram:\n",
    "                histogram[frame].append(eight)\n",
    "            else:\n",
    "                histogram[frame] = [eight]\n",
    "        else:\n",
    "            histogram[frame] = [-2]\n",
    "            print(\"{} gt done.\".format(frame))\n",
    "    return histogram\n",
    "\n",
    "\n",
    "def concat_lbp(img, method1):\n",
    "    concats = {}\n",
    "    for i in range(len(img)):\n",
    "        concat = []\n",
    "        if img[i] != -2:\n",
    "            for j in range(0,8):\n",
    "                concat.append(local_binary_pattern(img[i][j], n_points, radius, method1))    \n",
    "            concats[i+1] = concat\n",
    "        else:\n",
    "            concats[i+1] = -2\n",
    "    return concats\n",
    "\n",
    "\n",
    "def stack(dic):\n",
    "    stacked = {}\n",
    "    for frame in range(len(dic)):\n",
    "        if dic[frame] != -2:\n",
    "            for val in dic[frame]:\n",
    "                eight=[]\n",
    "                for part in range(8):\n",
    "                    eight.append(np.hstack(val[part]))\n",
    "                if frame in stacked:\n",
    "                    stacked[frame].append(eight)\n",
    "                else:\n",
    "                    stacked[frame] = [eight]\n",
    "        else:\n",
    "            stacked[frame] = -2\n",
    "    return stacked\n",
    "\n",
    "\n",
    "def stack_for_gt(dic):\n",
    "    stacked = {}\n",
    "    for frame in dic:\n",
    "        if dic[frame] != -2:\n",
    "            eight=[]\n",
    "            for part in range(8):\n",
    "                eight.append(np.hstack(dic[frame][part]))\n",
    "            if frame in stacked:\n",
    "                stacked[frame].append(eight)\n",
    "            else:\n",
    "                stacked[frame] = [eight]\n",
    "        else:\n",
    "            stacked[frame] = -2\n",
    "    return stacked\n",
    "\n",
    "\n",
    "def chi_for_hist (mask,gt):\n",
    "    hist_sum = 0\n",
    "    for part in range(8):\n",
    "        for i in range(len(mask[part])):\n",
    "            hist_sum += 0.5*np.sum((mask[part][i]-gt[part][i])**2/(mask[part][i]+gt[part][i]+1e-6))\n",
    "    return hist_sum\n",
    "\n",
    "\n",
    "def dist_collector(his,mask):\n",
    "    hist_distances = {}\n",
    "    for i in range (1,(order+1)):\n",
    "        for j in range(len(mask[i])):\n",
    "            if his[i] != [-2] and mask[i][j] != -2:\n",
    "                try:\n",
    "                    hist_distances[i].append(chi_for_hist(mask[i][j], his[i][0]))\n",
    "                except KeyError:\n",
    "                    hist_distances[i] = [chi_for_hist(mask[i][j], his[i][0])]\n",
    "                    \n",
    "            elif his[i] == [-2] and mask[i][j] != -2:\n",
    "                hist_distances[i] = [-2, -1]\n",
    "            elif his[i] != [-2] and mask[i][j] == -2:\n",
    "                hist_distances[i] = [-1, -2]\n",
    "            else:\n",
    "                hist_distances[i] = [-2, -2]\n",
    "    return hist_distances\n",
    "\n",
    "\n",
    "def dist_collector2(his):\n",
    "    hist_distances = {}\n",
    "    hist_distances[1] = 0\n",
    "    for i in range(2,len(his)):\n",
    "        if his[i-1] != [-2] and his[i] != [-2]:\n",
    "            hist_distances [i] = chi_for_hist(his[i-1][0],his[i][0])\n",
    "        elif his[i-1] == [-2] and his[i] != [-2]:\n",
    "            hist_distances[i] = 0\n",
    "        elif his[i-1] == [-2] and his[i] == [-2]:\n",
    "            his_distances[i] = -2\n",
    "        elif his[i-1] != [-2] and his[i] == [-2]:\n",
    "            hist_distances[i] = -2\n",
    "    return hist_distances\n",
    "\n",
    "\n",
    "METHOD = ['var','default',\"uniform\",\"ror\"]\n",
    "radius = 3\n",
    "n_points = 8"
   ]
  },
  {
   "cell_type": "code",
   "execution_count": null,
   "metadata": {},
   "outputs": [],
   "source": []
  },
  {
   "cell_type": "code",
   "execution_count": 4,
   "metadata": {},
   "outputs": [],
   "source": [
    "loaded_images = {}\n",
    "for filename in listdir('images/{}'.format(\"ballet\")):\n",
    "    # load image\n",
    "    img_data = image.imread('images/{}/'.format(\"ballet\") + filename)\n",
    "    # store loaded image\n",
    "    order=int(filename[0:8]) # Dizi sırasını normalize ettik.\n",
    "    loaded_images[order]=img_data"
   ]
  },
  {
   "cell_type": "code",
   "execution_count": 5,
   "metadata": {},
   "outputs": [],
   "source": [
    "frames_gt = []\n",
    "for line in open('VOT2019_LT/gt/{}_groundtruth.txt'.format(\"ballet\"),\"r\").readlines():\n",
    "    X = line.strip()\n",
    "    frames_gt.append(X.split(\",\"))"
   ]
  },
  {
   "cell_type": "code",
   "execution_count": 6,
   "metadata": {},
   "outputs": [],
   "source": [
    "grey_eight_imgs_gt = {}\n",
    "for i in range(len(frames_gt)):\n",
    "    grey_eight_imgs_gt[i]= cut_and_gray(loaded_images[i+1],frames_gt[i])"
   ]
  },
  {
   "cell_type": "code",
   "execution_count": 7,
   "metadata": {},
   "outputs": [],
   "source": [
    "boat_masks = {}\n",
    "frame_number = {}\n",
    "for line in open('VOT2019_LT/Mask/{}_mask'.format(\"ballet\"),\"r\").readlines():\n",
    "    M = line.strip()\n",
    "    splitted = M.split(\"\\t\")\n",
    "    try:\n",
    "        boat_masks[int(splitted[0])].append(splitted[1:5])\n",
    "    except KeyError:\n",
    "        boat_masks[int(splitted[0])] = [splitted[1:5]]\n",
    "    \n",
    "    if (splitted[0]) in frame_number:\n",
    "        frame_number[int(splitted[0])] += 1\n",
    "    else:\n",
    "        frame_number[int(splitted[0])] = 1\n",
    "\n",
    "for i in range (order):\n",
    "    if i not in frame_number:\n",
    "        frame_number[i] = 0"
   ]
  },
  {
   "cell_type": "code",
   "execution_count": 8,
   "metadata": {},
   "outputs": [
    {
     "data": {
      "text/plain": [
       "8"
      ]
     },
     "execution_count": 8,
     "metadata": {},
     "output_type": "execute_result"
    }
   ],
   "source": [
    "len(grey_eight_imgs_gt[0])"
   ]
  },
  {
   "cell_type": "code",
   "execution_count": null,
   "metadata": {},
   "outputs": [],
   "source": []
  },
  {
   "cell_type": "code",
   "execution_count": 138,
   "metadata": {},
   "outputs": [],
   "source": [
    "grey_mask = {}\n",
    "#order is a number that how many image i have\n",
    "for mask in range(1,(order+1)):\n",
    "    if mask in boat_masks:\n",
    "        for val in range(len(boat_masks[mask])):\n",
    "            concat = []\n",
    "            eight_pics = cut_and_gray(loaded_images[mask], boat_masks[mask][val])\n",
    "            for a in range(0,8):\n",
    "                concat.append(local_binary_pattern(eight_pics[a], n_points, radius, \"default\"))\n",
    "                \n",
    "            if mask in grey_mask:\n",
    "                grey_mask[mask].append(concat)\n",
    "            else:\n",
    "                grey_mask[mask] = [concat]\n",
    "    else:\n",
    "        grey_mask[mask] = -2"
   ]
  },
  {
   "cell_type": "code",
   "execution_count": 140,
   "metadata": {},
   "outputs": [],
   "source": [
    "stack_mask = stack(grey_mask)"
   ]
  },
  {
   "cell_type": "code",
   "execution_count": 144,
   "metadata": {},
   "outputs": [],
   "source": [
    "mask_hists = hist_generator(stack_mask)"
   ]
  },
  {
   "cell_type": "code",
   "execution_count": 13,
   "metadata": {},
   "outputs": [],
   "source": [
    "concat_gt_d = concat_lbp(grey_eight_imgs_gt, 'default')"
   ]
  },
  {
   "cell_type": "code",
   "execution_count": 123,
   "metadata": {},
   "outputs": [
    {
     "data": {
      "text/plain": [
       "8"
      ]
     },
     "execution_count": 123,
     "metadata": {},
     "output_type": "execute_result"
    }
   ],
   "source": [
    "len(concat_gt_d[1])"
   ]
  },
  {
   "cell_type": "code",
   "execution_count": 14,
   "metadata": {},
   "outputs": [],
   "source": [
    "stack_gt = stack_for_gt(concat_gt_d)"
   ]
  },
  {
   "cell_type": "code",
   "execution_count": 17,
   "metadata": {},
   "outputs": [],
   "source": [
    "gt_hists = hist_generator(stack_gt)"
   ]
  },
  {
   "cell_type": "code",
   "execution_count": 41,
   "metadata": {},
   "outputs": [],
   "source": [
    "distance_gt_gt = dist_collector2(gt_hists)"
   ]
  },
  {
   "cell_type": "code",
   "execution_count": 50,
   "metadata": {},
   "outputs": [
    {
     "data": {
      "text/plain": [
       "{1: 0,\n",
       " 2: 0.5641071581159887,\n",
       " 3: -2,\n",
       " 4: 0,\n",
       " 5: 0.671112790400514,\n",
       " 6: 0.6847036890823589,\n",
       " 7: 0.6080429516476945,\n",
       " 8: 0.6352288811672309,\n",
       " 9: 0.5388916397896383}"
      ]
     },
     "execution_count": 50,
     "metadata": {},
     "output_type": "execute_result"
    }
   ],
   "source": [
    "distance_gt_gt"
   ]
  },
  {
   "cell_type": "code",
   "execution_count": 146,
   "metadata": {},
   "outputs": [
    {
     "data": {
      "text/plain": [
       "{1: [2.2519371397211843,\n",
       "  4.389108737304519,\n",
       "  4.751353365059159,\n",
       "  4.459703953696372,\n",
       "  4.593577090414403,\n",
       "  3.5541442104219314,\n",
       "  4.3904900969070715],\n",
       " 2: [2.8670263893336703,\n",
       "  4.329169013742962,\n",
       "  3.9817802906038318,\n",
       "  4.424842991947909,\n",
       "  4.66029444296091,\n",
       "  4.659984296976917,\n",
       "  3.2683439732280353],\n",
       " 3: [-2, -1],\n",
       " 4: [-1, -2],\n",
       " 5: [2.3966167501447533,\n",
       "  3.1217674757309126,\n",
       "  4.416175042313419,\n",
       "  4.415732001871033,\n",
       "  3.0850782142320297,\n",
       "  4.670788887396813,\n",
       "  4.488317373283827,\n",
       "  4.03511555099926],\n",
       " 6: [2.4480176668948443,\n",
       "  4.3637424944231835,\n",
       "  4.333229630047997,\n",
       "  3.2744517808639046,\n",
       "  4.640660490342133,\n",
       "  4.742655213884014],\n",
       " 7: [2.4933944555916945,\n",
       "  3.0076255318706817,\n",
       "  4.691573760278574,\n",
       "  3.0047476461335925,\n",
       "  4.50160641048062,\n",
       "  4.265027238921658,\n",
       "  4.282331658392055,\n",
       "  4.394495696593103],\n",
       " 8: [-1, -2],\n",
       " 9: [-1, -2],\n",
       " 10: [2.4603692696418658,\n",
       "  3.731335943066003,\n",
       "  4.361167243736728,\n",
       "  4.793662548062658,\n",
       "  4.340802938446892]}"
      ]
     },
     "execution_count": 146,
     "metadata": {},
     "output_type": "execute_result"
    }
   ],
   "source": [
    "distance_gt_mask"
   ]
  },
  {
   "cell_type": "code",
   "execution_count": 111,
   "metadata": {},
   "outputs": [
    {
     "name": "stdout",
     "output_type": "stream",
     "text": [
      "4\n",
      "8\n",
      "9\n"
     ]
    }
   ],
   "source": [
    "for i in range(1,len(mask_hists)):\n",
    "    if mask_hists[i] == [-2]:\n",
    "        print(i)"
   ]
  },
  {
   "cell_type": "code",
   "execution_count": 41,
   "metadata": {},
   "outputs": [],
   "source": [
    "for i in gt_hists:\n",
    "    if i == [-2]:\n",
    "        pprint.pprint(i)"
   ]
  },
  {
   "cell_type": "code",
   "execution_count": 145,
   "metadata": {},
   "outputs": [],
   "source": [
    "distance_gt_mask = dist_collector(gt_hists, mask_hists)"
   ]
  },
  {
   "cell_type": "code",
   "execution_count": 55,
   "metadata": {},
   "outputs": [
    {
     "data": {
      "text/plain": [
       "True"
      ]
     },
     "execution_count": 55,
     "metadata": {},
     "output_type": "execute_result"
    }
   ],
   "source": [
    "mask_hists[1][0] == mask_hists[1][6]"
   ]
  },
  {
   "cell_type": "code",
   "execution_count": 32,
   "metadata": {},
   "outputs": [
    {
     "data": {
      "text/plain": [
       "{1: [2.2519371397211843,\n",
       "  2.2519371397211843,\n",
       "  2.2519371397211843,\n",
       "  2.2519371397211843,\n",
       "  2.2519371397211843,\n",
       "  2.2519371397211843,\n",
       "  2.2519371397211843],\n",
       " 2: [2.8670263893336703,\n",
       "  2.8670263893336703,\n",
       "  2.8670263893336703,\n",
       "  2.8670263893336703,\n",
       "  2.8670263893336703,\n",
       "  2.8670263893336703,\n",
       "  2.8670263893336703],\n",
       " 3: [-2, -1],\n",
       " 4: [-1, -2],\n",
       " 5: [2.3966167501447533,\n",
       "  2.3966167501447533,\n",
       "  2.3966167501447533,\n",
       "  2.3966167501447533,\n",
       "  2.3966167501447533,\n",
       "  2.3966167501447533,\n",
       "  2.3966167501447533,\n",
       "  2.3966167501447533],\n",
       " 6: [2.4480176668948443,\n",
       "  2.4480176668948443,\n",
       "  2.4480176668948443,\n",
       "  2.4480176668948443,\n",
       "  2.4480176668948443,\n",
       "  2.4480176668948443],\n",
       " 7: [2.4933944555916945,\n",
       "  2.4933944555916945,\n",
       "  2.4933944555916945,\n",
       "  2.4933944555916945,\n",
       "  2.4933944555916945,\n",
       "  2.4933944555916945,\n",
       "  2.4933944555916945,\n",
       "  2.4933944555916945],\n",
       " 8: [-1, -2],\n",
       " 9: [-1, -2],\n",
       " 10: [2.4603692696418658,\n",
       "  2.4603692696418658,\n",
       "  2.4603692696418658,\n",
       "  2.4603692696418658,\n",
       "  2.4603692696418658]}"
      ]
     },
     "execution_count": 32,
     "metadata": {},
     "output_type": "execute_result"
    }
   ],
   "source": [
    "distance_gt_mask"
   ]
  },
  {
   "cell_type": "code",
   "execution_count": null,
   "metadata": {},
   "outputs": [
    {
     "name": "stdout",
     "output_type": "stream",
     "text": [
      "'Bicycle video frame started!'\n"
     ]
    }
   ],
   "source": [
    "# load all images in a directory\n",
    "for videos in listdir('images/'):\n",
    "    if videos in [\"bicycle\"]:\n",
    "        pprint.pprint(\"Bicycle video frame started!\")\n",
    "        loaded_images = {}\n",
    "        for filename in listdir('images/{}'.format(videos)):\n",
    "            # load image\n",
    "            img_data = image.imread('images/{}/'.format(videos) + filename)\n",
    "            # store loaded image\n",
    "            order=int(filename[0:8]) # Dizi sırasını normalize ettik.\n",
    "            loaded_images[order]=img_data\n",
    "\n",
    "\n",
    "        frames_gt = []\n",
    "        for line in open('VOT2019_LT/gt/{}_groundtruth.txt'.format(videos),\"r\").readlines():\n",
    "            X = line.strip() \n",
    "            frames_gt.append(X.split(\",\"))\n",
    "\n",
    "\n",
    "        grey_eight_imgs_gt = {}\n",
    "        for i in range(len(frames_gt)):\n",
    "            grey_eight_imgs_gt[i]= cut_and_gray(loaded_images[i+1],frames_gt[i])\n",
    "\n",
    "\n",
    "        boat_masks = {}\n",
    "        frame_number = {}\n",
    "        for line in open('VOT2019_LT/Mask/{}_mask'.format(\"ballet\"),\"r\").readlines():\n",
    "            M = line.strip()\n",
    "            splitted = M.split(\"\\t\")\n",
    "            try:\n",
    "                boat_masks[int(splitted[0])].append(splitted[1:5])\n",
    "            except KeyError:\n",
    "                boat_masks[int(splitted[0])] = [splitted[1:5]]\n",
    "\n",
    "\n",
    "        grey_mask = {}\n",
    "        #order is a number that how many image i have\n",
    "        for mask in range(1,(order+1)):\n",
    "            concat = []\n",
    "            if mask in boat_masks:\n",
    "                for val in boat_masks[mask]:\n",
    "                    eight_pics = cut_and_gray(loaded_images[mask], val)\n",
    "                    for a in range(0,8):\n",
    "                        concat.append(local_binary_pattern(eight_pics[a], n_points, radius, \"default\"))\n",
    "\n",
    "                    if mask in grey_mask:\n",
    "                        grey_mask[mask].append(concat)\n",
    "                    else:\n",
    "                        grey_mask[mask] = [concat]\n",
    "            else:\n",
    "                grey_mask[mask] = -2\n",
    "\n",
    "\n",
    "        stack_mask = stack(grey_mask)\n",
    "        mask_hists = hist_generator(stack_mask)\n",
    "        concat_gt_d = concat_lbp(grey_eight_imgs_gt, 'default')\n",
    "        stack_gt = stack(concat_gt_d)\n",
    "        gt_hists = hist_generator(stack_gt)\n",
    "\n",
    "        distance_gt_mask = dist_collector(gt_hists, mask_hists)\n",
    "        distances_gt_gt = dist_collector2(gt_hists)\n",
    "\n",
    "        with open('distances/{}_distances.txt'.format(videos), 'w') as f:\n",
    "            for fr in range(len(distance_gt_mask)):\n",
    "                string = distance_gt_mask[fr][0]\n",
    "                for dists in distance_gt_mask[fr][1:]:\n",
    "                    string = str(string) + \",\" + str(dists)\n",
    "                f.write(str(int(fr)+1)+\",\"+str(string)+\"\\n\")"
   ]
  },
  {
   "cell_type": "code",
   "execution_count": null,
   "metadata": {},
   "outputs": [],
   "source": []
  }
 ],
 "metadata": {
  "kernelspec": {
   "display_name": "Python 3",
   "language": "python",
   "name": "python3"
  },
  "language_info": {
   "codemirror_mode": {
    "name": "ipython",
    "version": 3
   },
   "file_extension": ".py",
   "mimetype": "text/x-python",
   "name": "python",
   "nbconvert_exporter": "python",
   "pygments_lexer": "ipython3",
   "version": "3.7.3"
  }
 },
 "nbformat": 4,
 "nbformat_minor": 2
}
